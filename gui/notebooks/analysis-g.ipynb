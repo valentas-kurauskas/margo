{
 "metadata": {
  "name": ""
 },
 "nbformat": 3,
 "nbformat_minor": 0,
 "worksheets": [
  {
   "cells": [
    {
     "cell_type": "code",
     "collapsed": false,
     "input": [
      "import sys,os\n",
      "sys.path.append(os.path.abspath ('..'))\n",
      "from core import xyz\n",
      "xyz.VERBOSITY = 0\n",
      "import numpy as np\n",
      "import matplotlib\n",
      "import matplotlib.pyplot as plt\n",
      "from core.classifier import CustomizedClassifier, data, exceeds\n",
      "#%matplotlib inline\n",
      "matplotlib.rc('font', family='Arial')"
     ],
     "language": "python",
     "metadata": {},
     "outputs": [],
     "prompt_number": 1
    },
    {
     "cell_type": "code",
     "collapsed": false,
     "input": [
      "d = \"../../../arch/classified/grazvydas2/\"\n",
      "#a giant db\n",
      "VALIDATION = ['87_47_selectionsDB.xyz', '74_48_selectionsDB.xyz', '71_47_selectionsDB.xyz', \n",
      "        '71_35_selectionsDB.xyz', '89_49_selectionsDB.xyz', '83_46_selectionsDB.xyz', '84_50_selectionsDB.xyz']\n",
      "\n",
      "TEST_TRAIN = [d + z for z in os.listdir(d) if not z in VALIDATION]\n",
      "print len(VALIDATION), len(TEST_TRAIN)"
     ],
     "language": "python",
     "metadata": {},
     "outputs": [
      {
       "output_type": "stream",
       "stream": "stdout",
       "text": [
        "7 14\n"
       ]
      }
     ],
     "prompt_number": 54
    },
    {
     "cell_type": "code",
     "collapsed": false,
     "input": [
      "#initialize a dummy classifier\n",
      "c = CustomizedClassifier(x_getter=data(\"RAW_HEIGHTS\"), y_getter=exceeds(\"SCORE\", 0.5), r_col=\"dummy\", clf=None)"
     ],
     "language": "python",
     "metadata": {},
     "outputs": [],
     "prompt_number": 29
    },
    {
     "cell_type": "code",
     "collapsed": false,
     "input": [
      "db = c.load_data([d + x for x in TEST_TRAIN]);\n",
      "validation_db = c.load_data([d + x for x in VALIDATION]);"
     ],
     "language": "python",
     "metadata": {},
     "outputs": [
      {
       "output_type": "stream",
       "stream": "stdout",
       "text": [
        "Loading file 1 of 14 75_44_selectionsDB.xyz\n",
        "\n",
        "Labels present: True\n"
       ]
      },
      {
       "output_type": "stream",
       "stream": "stdout",
       "text": [
        "\n",
        "Loading file 2 of 14 86_41_selectionsDB.xyz\n",
        "\n",
        "Labels present: True\n"
       ]
      },
      {
       "output_type": "stream",
       "stream": "stdout",
       "text": [
        "\n",
        "Loading file 3 of 14 81_36_selectionsDB.xyz\n",
        "\n",
        "Labels present: True\n"
       ]
      },
      {
       "output_type": "stream",
       "stream": "stdout",
       "text": [
        "\n",
        "Loading file 4 of 14 79_46_selectionsDB.xyz\n",
        "\n",
        "Labels present: True\n"
       ]
      },
      {
       "output_type": "stream",
       "stream": "stdout",
       "text": [
        "\n",
        "Loading file 5 of 14 84_46_selectionsDB.xyz\n",
        "\n",
        "Labels present: True\n"
       ]
      },
      {
       "output_type": "stream",
       "stream": "stdout",
       "text": [
        "\n",
        "Loading file 6 of 14 85_48_selectionsDB.xyz\n",
        "\n",
        "Labels present: True\n"
       ]
      },
      {
       "output_type": "stream",
       "stream": "stdout",
       "text": [
        "\n",
        "Loading file 7 of 14 74_44_selectionsDB.xyz\n",
        "\n",
        "Labels present: True\n"
       ]
      },
      {
       "output_type": "stream",
       "stream": "stdout",
       "text": [
        "\n",
        "Loading file 8 of 14 85_42_selectionsDB.xyz\n",
        "\n",
        "Labels present: True\n"
       ]
      },
      {
       "output_type": "stream",
       "stream": "stdout",
       "text": [
        "\n",
        "Loading file 9 of 14 71_34_selectionsDB.xyz\n",
        "\n",
        "Labels present: True\n"
       ]
      },
      {
       "output_type": "stream",
       "stream": "stdout",
       "text": [
        "\n",
        "Loading file 10 of 14 81_38_selectionsDB.xyz\n",
        "\n",
        "Labels present: True\n"
       ]
      },
      {
       "output_type": "stream",
       "stream": "stdout",
       "text": [
        "\n",
        "Loading file 11 of 14 80_39_selectionsDB.xyz\n",
        "\n",
        "Labels present: True\n"
       ]
      },
      {
       "output_type": "stream",
       "stream": "stdout",
       "text": [
        "\n",
        "Loading file 12 of 14 80_40_selectionsDB.xyz\n",
        "\n",
        "Labels present: True\n"
       ]
      },
      {
       "output_type": "stream",
       "stream": "stdout",
       "text": [
        "\n",
        "Loading file 13 of 14 87_46_selectionsDB.xyz\n",
        "\n",
        "Labels present: True\n"
       ]
      },
      {
       "output_type": "stream",
       "stream": "stdout",
       "text": [
        "\n",
        "Loading file 14 of 14 86_46_selectionsDB.xyz\n",
        "\n",
        "Labels present: True\n"
       ]
      },
      {
       "output_type": "stream",
       "stream": "stdout",
       "text": [
        "\n",
        "Loading file 1 of 7 87_47_selectionsDB.xyz\n",
        "\n",
        "Labels present: True\n"
       ]
      },
      {
       "output_type": "stream",
       "stream": "stdout",
       "text": [
        "\n",
        "Loading file 2 of 7 74_48_selectionsDB.xyz\n",
        "\n",
        "Labels present: True\n"
       ]
      },
      {
       "output_type": "stream",
       "stream": "stdout",
       "text": [
        "\n",
        "Loading file 3 of 7 71_47_selectionsDB.xyz\n",
        "\n",
        "Labels present: True\n"
       ]
      },
      {
       "output_type": "stream",
       "stream": "stdout",
       "text": [
        "\n",
        "Loading file 4 of 7 71_35_selectionsDB.xyz\n",
        "\n",
        "Labels present: True\n"
       ]
      },
      {
       "output_type": "stream",
       "stream": "stdout",
       "text": [
        "\n",
        "Loading file 5 of 7 89_49_selectionsDB.xyz\n",
        "\n",
        "Labels present: True\n"
       ]
      },
      {
       "output_type": "stream",
       "stream": "stdout",
       "text": [
        "\n",
        "Loading file 6 of 7 83_46_selectionsDB.xyz\n",
        "\n",
        "Labels present: True\n"
       ]
      },
      {
       "output_type": "stream",
       "stream": "stdout",
       "text": [
        "\n",
        "Loading file 7 of 7 84_50_selectionsDB.xyz\n",
        "\n",
        "Labels present: True\n"
       ]
      },
      {
       "output_type": "stream",
       "stream": "stdout",
       "text": [
        "\n"
       ]
      }
     ],
     "prompt_number": 30
    },
    {
     "cell_type": "code",
     "collapsed": false,
     "input": [
      "#can be used for training\n",
      "X = np.array(db.data[\"X\"])\n",
      "Y = np.array(db.data[\"Y\"])\n",
      "F = np.array(db.data[\"FILE_ID\"])\n",
      "X_val = np.array(validation_db.data[\"X\"])\n",
      "Y_val = np.array(validation_db.data[\"Y\"])\n",
      "print \"TEST_TRAIN:\",sum(Y), sum(Y) * 1.0/len(Y), len(Y)\n",
      "print \"VALIDATION:\",sum(Y_val), sum(Y_val) * 1.0/len(Y_val), len(Y_val)"
     ],
     "language": "python",
     "metadata": {},
     "outputs": [
      {
       "output_type": "stream",
       "stream": "stdout",
       "text": [
        "TEST_TRAIN: "
       ]
      },
      {
       "output_type": "stream",
       "stream": "stdout",
       "text": [
        "633 0.0372155917455 17009\n",
        "VALIDATION: "
       ]
      },
      {
       "output_type": "stream",
       "stream": "stdout",
       "text": [
        "483 0.0647539884703 7459\n"
       ]
      }
     ],
     "prompt_number": 51
    },
    {
     "cell_type": "code",
     "collapsed": false,
     "input": [
      "#recall(sensitivity) and specificity at given threshold\n",
      "def recall_specificity(prob, is_true, threshold):\n",
      "    true_positives = sum( float(prob[i] >= threshold) and is_true[i] for i in range(len(prob)))\n",
      "    true_negatives = sum( float(prob[i] < threshold) and not is_true[i] for i in range(len(prob)))\n",
      "    total_true = sum(float(x) for x in is_true)\n",
      "    total_false = len(prob) - total_true\n",
      "    return (true_positives/total_true),  (true_negatives/total_false)\n",
      "\n",
      "\n",
      "def roc(prob, is_true):\n",
      "    thresholds = sorted(list(set(prob)))\n",
      "    #if len(thresholds) > 20:\n",
      "    #    thresholds =  [thresholds[ (i * (len(thresholds) - 1))/20] for i in range(11)]\n",
      "    \n",
      "    result = []\n",
      "    result.append( (0.0,0.0,\"\"))\n",
      "    for t in thresholds:\n",
      "        if t is None or t == \"None\": continue\n",
      "        rec, spec = recall_specificity(prob, is_true, t)\n",
      "        result.append((1-spec, rec, t))\n",
      "    return result\n",
      "\n",
      "\n",
      "\n",
      "\n",
      "def plot_curve(f, db, classifier, label = None, annotate = False,s = \"s-\"):\n",
      "    rc = f( np.array(db.data[classifier]), np.array(db.data[\"SCORE\"]) == 1)\n",
      "    rc.sort(key = lambda x: x[0])\n",
      "    plt.plot([x[0] for x in rc], [x[1] for x in rc], s, label = label)\n",
      "    if (annotate):\n",
      "        for x,y,z in rc:\n",
      "            plt.annotate( \"%.2f\" % z if type(z)==float else str(z), xy=(x,y))\n"
     ],
     "language": "python",
     "metadata": {},
     "outputs": [],
     "prompt_number": 4
    },
    {
     "cell_type": "code",
     "collapsed": false,
     "input": [
      "plt.figure(figsize = (8,8))\n",
      "plot_curve(roc, db, \"KNN_PROB\", \"knn\", annotate = True)\n",
      "plot_curve(roc, db2, \"KNN_PROB\", \"knn_old\", annotate = True)\n",
      "#plot_curve(roc, db, \"SVM_G\", \"svm_g\", annotate=False, s=\"s\")\n",
      "plot_curve(roc, db, \"SVM_G2\", \"svm_g2\", annotate=False, s=\"s\")\n",
      "plt.grid(True)\n",
      "plt.legend()\n",
      "plt.xlabel(\"False positive rate\")\n",
      "plt.ylabel(\"True positive rate\")\n",
      "plt.title(u\"ROC curve for mounds\")\n",
      "plt.show()"
     ],
     "language": "python",
     "metadata": {},
     "outputs": [],
     "prompt_number": 10
    },
    {
     "cell_type": "code",
     "collapsed": false,
     "input": [
      "db.data.keys()"
     ],
     "language": "python",
     "metadata": {},
     "outputs": [
      {
       "metadata": {},
       "output_type": "pyout",
       "prompt_number": 51,
       "text": [
        "['ELLIPSE_PHI',\n",
        " 'RESCALED',\n",
        " 'RAW_COLS',\n",
        " 'ELLIPSE_MSE',\n",
        " 'ELLIPSE_B',\n",
        " 'RAW_ROWS',\n",
        " 'ELLIPSE_A',\n",
        " 'NEIGHBOURS_TOTAL',\n",
        " 'COMMENT',\n",
        " 'ELLIPSE_N_GOOD',\n",
        " 'LOCAL_VARIANCE',\n",
        " 'AREA',\n",
        " 'TEMPLATE_CORRELATION',\n",
        " 'ELLIPSE_PROFILE_VAR',\n",
        " 'DITCH_DISTANCE',\n",
        " 'SVM_G2',\n",
        " 'SVM_G',\n",
        " 'ELLIPSE_ASYMMETRY',\n",
        " 'RAW_HEIGHTS',\n",
        " 'ELLIPSE_VERT_MSE',\n",
        " 'LONGITUDE',\n",
        " 'SCORE',\n",
        " 'RESCALED_WIDTH',\n",
        " 'NEIGHBOURS_GOOD',\n",
        " 'Y',\n",
        " 'X',\n",
        " 'ELLIPSE_PROFILE',\n",
        " 'ID',\n",
        " 'NAME',\n",
        " 'KNN_PROB',\n",
        " 'DESCRIPTION',\n",
        " 'ELLIPSE_COMBINED_MSE',\n",
        " 'MAX_HEIGHT',\n",
        " 'MEDIAN_CORRELATION',\n",
        " 'LATITUDE']"
       ]
      }
     ],
     "prompt_number": 51
    },
    {
     "cell_type": "code",
     "collapsed": false,
     "input": [
      "from collections import Counter\n",
      "cts = (Counter(np.array(db.data[\"FNAME\"])[(np.array(db.data[\"SVM_G\"]) == 'True') & (np.array(db.data[\"SCORE\"]) != 1)]))\n",
      "#cts = (Counter(np.array(db.data[\"FNAME\"])[(np.array(db.data[\"SVM_G2\"]) == '1.0') & (np.array(db.data[\"SCORE\"]) != 1)]))\n",
      "for x,y in cts.iteritems():\n",
      "    print (x,y)"
     ],
     "language": "python",
     "metadata": {},
     "outputs": [
      {
       "output_type": "stream",
       "stream": "stdout",
       "text": [
        "('80_40_selectionsDB.xyz', 3)\n",
        "('85_42_selectionsDB.xyz', 2)\n",
        "('87_46_selectionsDB.xyz', 1)\n",
        "('85_48_selectionsDB.xyz', 1)\n",
        "('75_44_selectionsDB.xyz', 1)\n",
        "('71_35_selectionsDB.xyz', 1)\n",
        "('84_46_selectionsDB.xyz', 1)\n",
        "('84_50_selectionsDB.xyz', 1)\n"
       ]
      }
     ],
     "prompt_number": 70
    }
   ],
   "metadata": {}
  }
 ]
}