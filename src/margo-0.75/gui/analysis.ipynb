{
 "metadata": {
  "name": ""
 },
 "nbformat": 3,
 "nbformat_minor": 0,
 "worksheets": [
  {
   "cells": [
    {
     "cell_type": "code",
     "collapsed": false,
     "input": [
      "#\u0161is failas turi b\u016bti i\u0161saugotas gui/ kataloge \n",
      "from core import xyz\n",
      "import numpy as np\n",
      "import matplotlib\n",
      "import matplotlib.pyplot as plt\n",
      "#%matplotlib inline\n",
      "matplotlib.rc('font', family='Arial')"
     ],
     "language": "python",
     "metadata": {},
     "outputs": [],
     "prompt_number": 1
    },
    {
     "cell_type": "code",
     "collapsed": false,
     "input": [
      "db = xyz.load_from_file(\"/home/diezel/work/arch/unfound/detected-wider/detections-knn.xyz\")\n",
      "db2 = xyz.load_from_file(\"/home/diezel/work/arch/unfound/detected-wider/detections-prox.xyz\")"
     ],
     "language": "python",
     "metadata": {},
     "outputs": [
      {
       "output_type": "stream",
       "stream": "stdout",
       "text": [
        "7460 parse exceptions. Set xyz.SHOW_PARSE_EXCEPTIONS to True to show each exception\n",
        "6199 parse exceptions. Set xyz.SHOW_PARSE_EXCEPTIONS to True to show each exception"
       ]
      },
      {
       "output_type": "stream",
       "stream": "stdout",
       "text": [
        "\n"
       ]
      }
     ],
     "prompt_number": 2
    },
    {
     "cell_type": "code",
     "collapsed": false,
     "input": [
      "#recall(sensitivity) and specificity at given threshold\n",
      "def recall_specificity(prob, is_true, threshold):\n",
      "    true_positives = sum( float(prob[i] >= threshold) and is_true[i] for i in range(len(prob)))\n",
      "    true_negatives = sum( float(prob[i] < threshold) and not is_true[i] for i in range(len(prob)))\n",
      "    total_true = sum(float(x) for x in is_true)\n",
      "    total_false = len(prob) - total_true\n",
      "    return (true_positives/total_true),  (true_negatives/total_false)\n",
      "\n",
      "\n",
      "def roc(prob, is_true):\n",
      "    thresholds = sorted(list(set(prob)))\n",
      "    #if len(thresholds) > 20:\n",
      "    #    thresholds =  [thresholds[ (i * (len(thresholds) - 1))/20] for i in range(11)]\n",
      "    \n",
      "    result = []\n",
      "    for t in thresholds:\n",
      "        rec, spec = recall_specificity(prob, is_true, t)\n",
      "        result.append((1-spec, rec, t))\n",
      "    return result\n",
      "\n",
      "\n",
      "\n",
      "\n",
      "def plot_curve(f, db, classifier, label = None, annotate = False):\n",
      "    rc = f( np.array(db.data[classifier]), np.array(db.data[\"SCORE\"]) == 1)\n",
      "    rc.sort(key = lambda x: x[0])\n",
      "    plt.plot([x[0] for x in rc], [x[1] for x in rc], \"s-\", label = label)\n",
      "    if (annotate):\n",
      "        for x,y,z in rc:\n",
      "            plt.annotate( \"%.2f\" % z, xy=(x,y))\n"
     ],
     "language": "python",
     "metadata": {},
     "outputs": [],
     "prompt_number": 11
    },
    {
     "cell_type": "code",
     "collapsed": false,
     "input": [
      "plt.figure(figsize = (8,8))\n",
      "plot_curve(roc, db, \"KNN_PROB\", \"knn\", annotate = True)\n",
      "plot_curve(roc, db2, \"LR_PROB\", \"proximity\")\n",
      "plt.grid(True)\n",
      "plt.legend()\n",
      "plt.xlabel(\"False positive rate\")\n",
      "plt.ylabel(\"True positive rate\")\n",
      "plt.title(u\"ROC kreiv\u0117 pilkapiams\")\n",
      "plt.show()"
     ],
     "language": "python",
     "metadata": {},
     "outputs": [],
     "prompt_number": 4
    },
    {
     "cell_type": "code",
     "collapsed": false,
     "input": [
      "\n",
      "#recall(sensitivity) and specificity at given threshold\n",
      "def puf(prob, is_true, threshold):\n",
      "    true_positives = sum( float(prob[i] >= threshold) and is_true[i] for i in range(len(prob)))\n",
      "    true_negatives = sum( float(prob[i] < threshold) and not is_true[i] for i in range(len(prob)))\n",
      "    total_true = sum(float(x) for x in is_true)\n",
      "    total_detected = sum(float(x >= threshold) for x in prob)\n",
      "\n",
      "    return (true_positives/total_true), (true_positives/total_detected)\n",
      "\n",
      "def pufpuf(prob, is_true):\n",
      "    thresholds = sorted(list(set(prob)))\n",
      "    #if len(thresholds) > 20:\n",
      "    #    thresholds =  [thresholds[ (i * (len(thresholds) - 1))/20] for i in range(11)]\n",
      "    \n",
      "    result = []\n",
      "    for t in thresholds:\n",
      "        f1, f2 = puf(prob, is_true, t)\n",
      "        result.append((f1, f2, t))\n",
      "    return result"
     ],
     "language": "python",
     "metadata": {},
     "outputs": [],
     "prompt_number": 15
    },
    {
     "cell_type": "code",
     "collapsed": false,
     "input": [
      "plot_curve(pufpuf, db, \"KNN_PROB\", \"knn\", annotate = True)\n",
      "plot_curve(pufpuf, db2, \"LR_PROB\", \"proximity\")\n",
      "plt.grid(True)\n",
      "plt.legend()\n",
      "plt.xlabel(\"predicted/total true\")\n",
      "plt.ylabel(\"predicted true/pred\")\n",
      "plt.show()"
     ],
     "language": "python",
     "metadata": {},
     "outputs": [],
     "prompt_number": 16
    }
   ],
   "metadata": {}
  }
 ]
}