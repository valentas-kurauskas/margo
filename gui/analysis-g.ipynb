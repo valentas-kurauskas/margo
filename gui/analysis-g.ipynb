{
 "metadata": {
  "name": ""
 },
 "nbformat": 3,
 "nbformat_minor": 0,
 "worksheets": [
  {
   "cells": [
    {
     "cell_type": "code",
     "collapsed": false,
     "input": [
      "#\u0161is failas turi b\u016bti i\u0161saugotas gui/ kataloge \n",
      "from core import xyz\n",
      "import numpy as np\n",
      "import matplotlib\n",
      "import matplotlib.pyplot as plt\n",
      "#%matplotlib inline\n",
      "matplotlib.rc('font', family='Arial')"
     ],
     "language": "python",
     "metadata": {},
     "outputs": [],
     "prompt_number": 1
    },
    {
     "cell_type": "code",
     "collapsed": false,
     "input": [
      "import os\n",
      "d = \"/home/diezel/work/arch/tmp/grazvydas2/\"\n",
      "#a giant db\n",
      "db = xyz.merge_files([d + x for x in os.listdir(d)], add_fname=True)"
     ],
     "language": "python",
     "metadata": {},
     "outputs": [
      {
       "output_type": "stream",
       "stream": "stdout",
       "text": [
        "1560 parse exceptions. Set xyz.SHOW_PARSE_EXCEPTIONS to True to show each exception\n",
        "934 parse exceptions. Set xyz.SHOW_PARSE_EXCEPTIONS to True to show each exception"
       ]
      },
      {
       "output_type": "stream",
       "stream": "stdout",
       "text": [
        "\n",
        "2064 parse exceptions. Set xyz.SHOW_PARSE_EXCEPTIONS to True to show each exception"
       ]
      },
      {
       "output_type": "stream",
       "stream": "stdout",
       "text": [
        "\n",
        "2420 parse exceptions. Set xyz.SHOW_PARSE_EXCEPTIONS to True to show each exception"
       ]
      },
      {
       "output_type": "stream",
       "stream": "stdout",
       "text": [
        "\n",
        "644 parse exceptions. Set xyz.SHOW_PARSE_EXCEPTIONS to True to show each exception"
       ]
      },
      {
       "output_type": "stream",
       "stream": "stdout",
       "text": [
        "\n",
        "675 parse exceptions. Set xyz.SHOW_PARSE_EXCEPTIONS to True to show each exception"
       ]
      },
      {
       "output_type": "stream",
       "stream": "stdout",
       "text": [
        "\n",
        "1432 parse exceptions. Set xyz.SHOW_PARSE_EXCEPTIONS to True to show each exception"
       ]
      },
      {
       "output_type": "stream",
       "stream": "stdout",
       "text": [
        "\n",
        "1200 parse exceptions. Set xyz.SHOW_PARSE_EXCEPTIONS to True to show each exception"
       ]
      },
      {
       "output_type": "stream",
       "stream": "stdout",
       "text": [
        "\n",
        "380 parse exceptions. Set xyz.SHOW_PARSE_EXCEPTIONS to True to show each exception"
       ]
      },
      {
       "output_type": "stream",
       "stream": "stdout",
       "text": [
        "\n",
        "1869 parse exceptions. Set xyz.SHOW_PARSE_EXCEPTIONS to True to show each exception"
       ]
      },
      {
       "output_type": "stream",
       "stream": "stdout",
       "text": [
        "\n",
        "924 parse exceptions. Set xyz.SHOW_PARSE_EXCEPTIONS to True to show each exception"
       ]
      },
      {
       "output_type": "stream",
       "stream": "stdout",
       "text": [
        "\n",
        "621 parse exceptions. Set xyz.SHOW_PARSE_EXCEPTIONS to True to show each exception"
       ]
      },
      {
       "output_type": "stream",
       "stream": "stdout",
       "text": [
        "\n",
        "1934 parse exceptions. Set xyz.SHOW_PARSE_EXCEPTIONS to True to show each exception"
       ]
      },
      {
       "output_type": "stream",
       "stream": "stdout",
       "text": [
        "\n",
        "1032 parse exceptions. Set xyz.SHOW_PARSE_EXCEPTIONS to True to show each exception"
       ]
      },
      {
       "output_type": "stream",
       "stream": "stdout",
       "text": [
        "\n",
        "1616 parse exceptions. Set xyz.SHOW_PARSE_EXCEPTIONS to True to show each exception"
       ]
      },
      {
       "output_type": "stream",
       "stream": "stdout",
       "text": [
        "\n",
        "1266 parse exceptions. Set xyz.SHOW_PARSE_EXCEPTIONS to True to show each exception"
       ]
      },
      {
       "output_type": "stream",
       "stream": "stdout",
       "text": [
        "\n",
        "1104 parse exceptions. Set xyz.SHOW_PARSE_EXCEPTIONS to True to show each exception"
       ]
      },
      {
       "output_type": "stream",
       "stream": "stdout",
       "text": [
        "\n",
        "2404 parse exceptions. Set xyz.SHOW_PARSE_EXCEPTIONS to True to show each exception"
       ]
      },
      {
       "output_type": "stream",
       "stream": "stdout",
       "text": [
        "\n",
        "942 parse exceptions. Set xyz.SHOW_PARSE_EXCEPTIONS to True to show each exception"
       ]
      },
      {
       "output_type": "stream",
       "stream": "stdout",
       "text": [
        "\n",
        "1504 parse exceptions. Set xyz.SHOW_PARSE_EXCEPTIONS to True to show each exception"
       ]
      },
      {
       "output_type": "stream",
       "stream": "stdout",
       "text": [
        "\n",
        "552 parse exceptions. Set xyz.SHOW_PARSE_EXCEPTIONS to True to show each exception"
       ]
      },
      {
       "output_type": "stream",
       "stream": "stdout",
       "text": [
        "\n"
       ]
      }
     ],
     "prompt_number": 2
    },
    {
     "cell_type": "code",
     "collapsed": false,
     "input": [
      "print (db.column_names)"
     ],
     "language": "python",
     "metadata": {},
     "outputs": [
      {
       "output_type": "stream",
       "stream": "stdout",
       "text": [
        "['LONGITUDE', 'LATITUDE', 'ID', 'SCORE', 'COMMENT', 'DESCRIPTION', 'NAME', 'AREA', 'MAX_HEIGHT', 'MEDIAN_CORRELATION', 'NEIGHBOURS_GOOD', 'NEIGHBOURS_TOTAL', 'ELLIPSE_N_GOOD', 'ELLIPSE_COMBINED_MSE', 'ELLIPSE_ASYMMETRY', 'ELLIPSE_VERT_MSE', 'DITCH_DISTANCE', 'RAW_COLS', 'RAW_ROWS', 'RESCALED_WIDTH', 'X', 'Y', 'SVM_G', 'KNN_PROB', 'SVM_G2', 'LOCAL_VARIANCE', 'TEMPLATE_CORRELATION', 'ELLIPSE_A', 'ELLIPSE_B', 'ELLIPSE_PHI', 'ELLIPSE_MSE', 'ELLIPSE_PROFILE', 'ELLIPSE_PROFILE_VAR', 'RAW_HEIGHTS', 'RESCALED', 'FNAME']\n"
       ]
      }
     ],
     "prompt_number": 3
    },
    {
     "cell_type": "code",
     "collapsed": false,
     "input": [
      "#recall(sensitivity) and specificity at given threshold\n",
      "def recall_specificity(prob, is_true, threshold):\n",
      "    true_positives = sum( float(prob[i] >= threshold) and is_true[i] for i in range(len(prob)))\n",
      "    true_negatives = sum( float(prob[i] < threshold) and not is_true[i] for i in range(len(prob)))\n",
      "    total_true = sum(float(x) for x in is_true)\n",
      "    total_false = len(prob) - total_true\n",
      "    return (true_positives/total_true),  (true_negatives/total_false)\n",
      "\n",
      "\n",
      "def roc(prob, is_true):\n",
      "    thresholds = sorted(list(set(prob)))\n",
      "    #if len(thresholds) > 20:\n",
      "    #    thresholds =  [thresholds[ (i * (len(thresholds) - 1))/20] for i in range(11)]\n",
      "    \n",
      "    result = []\n",
      "    result.append( (0.0,0.0,\"\"))\n",
      "    for t in thresholds:\n",
      "        if t is None or t == \"None\": continue\n",
      "        rec, spec = recall_specificity(prob, is_true, t)\n",
      "        result.append((1-spec, rec, t))\n",
      "    return result\n",
      "\n",
      "\n",
      "\n",
      "\n",
      "def plot_curve(f, db, classifier, label = None, annotate = False,s = \"s-\"):\n",
      "    rc = f( np.array(db.data[classifier]), np.array(db.data[\"SCORE\"]) == 1)\n",
      "    rc.sort(key = lambda x: x[0])\n",
      "    plt.plot([x[0] for x in rc], [x[1] for x in rc], s, label = label)\n",
      "    if (annotate):\n",
      "        for x,y,z in rc:\n",
      "            plt.annotate( \"%.2f\" % z if type(z)==float else str(z), xy=(x,y))\n"
     ],
     "language": "python",
     "metadata": {},
     "outputs": [],
     "prompt_number": 4
    },
    {
     "cell_type": "code",
     "collapsed": false,
     "input": [
      "plt.figure(figsize = (8,8))\n",
      "plot_curve(roc, db, \"KNN_PROB\", \"knn\", annotate = True)\n",
      "plot_curve(roc, db, \"SVM_G\", \"svm_g\", annotate=False, s=\"s\")\n",
      "plot_curve(roc, db, \"SVM_G2\", \"svm_g2\", annotate=False, s=\"s\")\n",
      "plt.grid(True)\n",
      "plt.legend()\n",
      "plt.xlabel(\"False positive rate\")\n",
      "plt.ylabel(\"True positive rate\")\n",
      "plt.title(u\"ROC curve for mounds\")\n",
      "plt.show()"
     ],
     "language": "python",
     "metadata": {},
     "outputs": [],
     "prompt_number": 6
    },
    {
     "cell_type": "code",
     "collapsed": false,
     "input": [
      "db.data.keys()"
     ],
     "language": "python",
     "metadata": {},
     "outputs": [
      {
       "metadata": {},
       "output_type": "pyout",
       "prompt_number": 51,
       "text": [
        "['ELLIPSE_PHI',\n",
        " 'RESCALED',\n",
        " 'RAW_COLS',\n",
        " 'ELLIPSE_MSE',\n",
        " 'ELLIPSE_B',\n",
        " 'RAW_ROWS',\n",
        " 'ELLIPSE_A',\n",
        " 'NEIGHBOURS_TOTAL',\n",
        " 'COMMENT',\n",
        " 'ELLIPSE_N_GOOD',\n",
        " 'LOCAL_VARIANCE',\n",
        " 'AREA',\n",
        " 'TEMPLATE_CORRELATION',\n",
        " 'ELLIPSE_PROFILE_VAR',\n",
        " 'DITCH_DISTANCE',\n",
        " 'SVM_G2',\n",
        " 'SVM_G',\n",
        " 'ELLIPSE_ASYMMETRY',\n",
        " 'RAW_HEIGHTS',\n",
        " 'ELLIPSE_VERT_MSE',\n",
        " 'LONGITUDE',\n",
        " 'SCORE',\n",
        " 'RESCALED_WIDTH',\n",
        " 'NEIGHBOURS_GOOD',\n",
        " 'Y',\n",
        " 'X',\n",
        " 'ELLIPSE_PROFILE',\n",
        " 'ID',\n",
        " 'NAME',\n",
        " 'KNN_PROB',\n",
        " 'DESCRIPTION',\n",
        " 'ELLIPSE_COMBINED_MSE',\n",
        " 'MAX_HEIGHT',\n",
        " 'MEDIAN_CORRELATION',\n",
        " 'LATITUDE']"
       ]
      }
     ],
     "prompt_number": 51
    },
    {
     "cell_type": "code",
     "collapsed": false,
     "input": [
      "from collections import Counter\n",
      "cts = (Counter(np.array(db.data[\"FNAME\"])[(np.array(db.data[\"SVM_G\"]) == 'True') & (np.array(db.data[\"SCORE\"]) != 1)]))\n",
      "#cts = (Counter(np.array(db.data[\"FNAME\"])[(np.array(db.data[\"SVM_G2\"]) == '1.0') & (np.array(db.data[\"SCORE\"]) != 1)]))\n",
      "for x,y in cts.iteritems():\n",
      "    print (x,y)"
     ],
     "language": "python",
     "metadata": {},
     "outputs": [
      {
       "output_type": "stream",
       "stream": "stdout",
       "text": [
        "('80_40_selectionsDB.xyz', 3)\n",
        "('85_42_selectionsDB.xyz', 2)\n",
        "('87_46_selectionsDB.xyz', 1)\n",
        "('85_48_selectionsDB.xyz', 1)\n",
        "('75_44_selectionsDB.xyz', 1)\n",
        "('71_35_selectionsDB.xyz', 1)\n",
        "('84_46_selectionsDB.xyz', 1)\n",
        "('84_50_selectionsDB.xyz', 1)\n"
       ]
      }
     ],
     "prompt_number": 70
    }
   ],
   "metadata": {}
  }
 ]
}