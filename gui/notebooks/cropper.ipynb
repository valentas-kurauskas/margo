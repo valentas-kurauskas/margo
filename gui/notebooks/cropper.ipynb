{
 "metadata": {
  "name": ""
 },
 "nbformat": 3,
 "nbformat_minor": 0,
 "worksheets": [
  {
   "cells": [
    {
     "cell_type": "code",
     "collapsed": false,
     "input": [
      "import sys,os\n",
      "sys.path.append(os.path.abspath ('..'))\n",
      "from core import xyz\n",
      "xyz.VERBOSITY=0\n",
      "import numpy as np\n",
      "import matplotlib\n",
      "import matplotlib.pyplot as plt\n",
      "#%matplotlib inline\n",
      "matplotlib.rc('font', family='Arial')"
     ],
     "language": "python",
     "metadata": {},
     "outputs": []
    },
    {
     "cell_type": "code",
     "collapsed": false,
     "input": [
      "def is_positive(lon, lat, a, lon_pos, lat_pos):\n",
      "        return sum((lon_pos > lon - a/2) & (lon_pos < lon + a/2) & (lat_pos > lat - a/2) & (lat_pos < lat + a/2)) > 0"
     ],
     "language": "python",
     "metadata": {},
     "outputs": []
    },
    {
     "cell_type": "code",
     "collapsed": false,
     "input": [
      "from core import gdal_interface\n",
      "from matplotlib import cm\n",
      "from matplotlib.colors import LightSource\n",
      "ls = LightSource(azdeg = 135, altdeg = 30)\n",
      "hfzpath = \"../../../arch/hfz/\"\n",
      "prjpath = \"../../../arch/hfz/lks94.prj\"\n",
      "current_sheet = None\n",
      "\n",
      "def load_raster(sheet):\n",
      "    global current_sheet, current_raster\n",
      "    if sheet == current_sheet: return\n",
      "    hfzf = hfzpath + sheet + \".hfz\"\n",
      "    current_raster = gdal_interface.GdalMap(hfzf, prjpath)\n",
      "    current_sheet = sheet"
     ],
     "language": "python",
     "metadata": {},
     "outputs": []
    },
    {
     "cell_type": "code",
     "collapsed": false,
     "input": [
      "def write_png(buf, width, height):\n",
      "    \"\"\" buf: must be bytes or a bytearray in py3, a regular string in py2. formatted RGBARGBA... \"\"\"\n",
      "    import zlib, struct\n",
      "\n",
      "    # reverse the vertical line order and add null bytes at the start\n",
      "    width_byte_4 = width * 4\n",
      "    raw_data = b''.join(b'\\x00' + buf[span:span + width_byte_4]\n",
      "                        for span in range((height - 1) * width * 4, -1, - width_byte_4))\n",
      "\n",
      "    def png_pack(png_tag, data):\n",
      "        chunk_head = png_tag + data\n",
      "        return (struct.pack(\"!I\", len(data)) +\n",
      "                chunk_head +\n",
      "                struct.pack(\"!I\", 0xFFFFFFFF & zlib.crc32(chunk_head)))\n",
      "\n",
      "    return b''.join([\n",
      "        b'\\x89PNG\\r\\n\\x1a\\n',\n",
      "        png_pack(b'IHDR', struct.pack(\"!2I5B\", width, height, 8, 6, 0, 0, 0)),\n",
      "        png_pack(b'IDAT', zlib.compress(raw_data, 9)),\n",
      "        png_pack(b'IEND', b'')])\n",
      "\n",
      "\n",
      "def write_matrix(matrix, fname):\n",
      "    global rgbArray,array\n",
      "    x,y = matrix.shape\n",
      "    if x != y:\n",
      "        return    \n",
      "    M = matrix.max()\n",
      "    H = 5 #max height that can be represented\n",
      "    #255 - max peak = H\n",
      "    #0  = max peak - H\n",
      "    f = np.clip(((matrix.flatten() - M) + H) / H, 0, 1)\n",
      "    rgbArray = np.zeros((x*y,4), dtype='uint8')    \n",
      "    #plt.imshow(matrix)\n",
      "    rgbArray[:, 0] = f * 255\n",
      "    rgbArray[:, 1] = f * 255\n",
      "    rgbArray[:, 2] = f * 255\n",
      "    rgbArray[:, 3] = 255\n",
      "    array =  \"\".join(map(chr,rgbArray.flatten()))\n",
      "    f = open(fname, 'wb')\n",
      "    f.write(write_png(array, x,y))\n",
      "    f.close()\n",
      "    \n",
      "def save_point(lon, lat,fname, id, positive, a=100, dir=\"../../../arch/tiff/scored_by_ra/\"):\n",
      "    load_raster(fname[:5])\n",
      "    matrix = current_raster.get_rectangle( (lon - a/2, lat + a/2), (lon + a/2, lat - a/2) )\n",
      "    write_matrix(matrix, dir + (\"positive/\" if positive else \"negative/\") + fname[:5] + \"_{0}_{1}_{2}\".format(id, lon, lat) + \".png\")"
     ],
     "language": "python",
     "metadata": {},
     "outputs": []
    },
    {
     "cell_type": "code",
     "collapsed": false,
     "input": [
      "d = \"../../../arch/scored/scored by RA/\"\n",
      "RADIUS = 200\n",
      "\n",
      "#a giant db\n",
      "db = xyz.merge_files([d + x for x in os.listdir(d) if x.endswith(\"DB.xyz\")], columns=[\"LONGITUDE\", \"LATITUDE\", \"ID\", \"SCORE\", \"FNAME\"], add_fname=True)\n",
      "print (db.size)\n",
      "pdb = db.to_pandas()\n",
      "positive = pdb[pdb.SCORE == 1]\n",
      "pdb['positive'] = [is_positive(x,y, RADIUS, positive.LONGITUDE.values, positive.LATITUDE.values) for x,y in pdb[[\"LONGITUDE\", \"LATITUDE\"]].values]"
     ],
     "language": "python",
     "metadata": {},
     "outputs": []
    },
    {
     "cell_type": "code",
     "collapsed": false,
     "input": [
      "%%bash\n",
      "mkdir -p ../../../arch/tiff/scored_by_ra/positive\n",
      "mkdir -p ../../../arch/tiff/scored_by_ra/negative"
     ],
     "language": "python",
     "metadata": {},
     "outputs": []
    },
    {
     "cell_type": "code",
     "collapsed": false,
     "input": [
      "for x in pdb[[\"LONGITUDE\", \"LATITUDE\", \"FNAME\", \"ID\", \"positive\"]].values:\n",
      "    save_point(*x)"
     ],
     "language": "python",
     "metadata": {},
     "outputs": []
    }
   ],
   "metadata": {}
  }
 ]
}