{
 "metadata": {
  "name": ""
 },
 "nbformat": 3,
 "nbformat_minor": 0,
 "worksheets": [
  {
   "cells": [
    {
     "cell_type": "code",
     "collapsed": false,
     "input": [
      "import sys,os\n",
      "sys.path.append(os.path.abspath ('..'))\n",
      "from core import xyz\n",
      "xyz.VERBOSITY=0\n",
      "import numpy as np\n",
      "import matplotlib\n",
      "import matplotlib.pyplot as plt\n",
      "#%matplotlib inline\n",
      "matplotlib.rc('font', family='Arial')"
     ],
     "language": "python",
     "metadata": {},
     "outputs": [],
     "prompt_number": 1
    },
    {
     "cell_type": "code",
     "collapsed": false,
     "input": [
      "#d = \"../../../arch/classified/outputAll2/\"\n",
      "#d = \"../../../arch/classified/grazvydas-validation-result/\"\n",
      "d = \"../../../arch/classified/tmp/\"\n",
      "\n",
      "#a giant db\n",
      "db = xyz.merge_files([d + x for x in os.listdir(d) if x.startswith(\"val\")], add_fname=True)\n",
      "print (db.size)"
     ],
     "language": "python",
     "metadata": {},
     "outputs": [
      {
       "output_type": "stream",
       "stream": "stdout",
       "text": [
        "loading: /home/diezel/work/arch/classified/tmp/val_74_48_selectionsDB.xyz\n",
        "loading: /home/diezel/work/arch/classified/tmp/val_71_47_selectionsDB.xyz"
       ]
      },
      {
       "output_type": "stream",
       "stream": "stdout",
       "text": [
        "\n",
        "loading: /home/diezel/work/arch/classified/tmp/val_71_35_selectionsDB.xyz"
       ]
      },
      {
       "output_type": "stream",
       "stream": "stdout",
       "text": [
        "\n",
        "loading: /home/diezel/work/arch/classified/tmp/val_87_47_selectionsDB.xyz"
       ]
      },
      {
       "output_type": "stream",
       "stream": "stdout",
       "text": [
        "\n",
        "loading: /home/diezel/work/arch/classified/tmp/val_89_49_selectionsDB.xyz"
       ]
      },
      {
       "output_type": "stream",
       "stream": "stdout",
       "text": [
        "\n",
        "loading: /home/diezel/work/arch/classified/tmp/val_84_50_selectionsDB.xyz"
       ]
      },
      {
       "output_type": "stream",
       "stream": "stdout",
       "text": [
        "\n",
        "loading: /home/diezel/work/arch/classified/tmp/val_83_46_selectionsDB.xyz"
       ]
      },
      {
       "output_type": "stream",
       "stream": "stdout",
       "text": [
        "\n",
        "7465"
       ]
      },
      {
       "output_type": "stream",
       "stream": "stdout",
       "text": [
        "\n"
       ]
      }
     ],
     "prompt_number": 3
    },
    {
     "cell_type": "code",
     "collapsed": false,
     "input": [
      "#db = xyz.load_from_file(\"../../../arch/classified/big3medium3_ms.xyz\")\n",
      "db = xyz.load_from_file(\"../../../arch/classified/grazvydas_combined.xyz\")\n",
      "\n",
      "print (db.size)"
     ],
     "language": "python",
     "metadata": {},
     "outputs": [
      {
       "output_type": "stream",
       "stream": "stdout",
       "text": [
        "loading: ../../../arch/classified/grazvydas_combined.xyz\n",
        "7465"
       ]
      },
      {
       "output_type": "stream",
       "stream": "stdout",
       "text": [
        "\n"
       ]
      }
     ],
     "prompt_number": 2
    },
    {
     "cell_type": "code",
     "collapsed": false,
     "input": [
      "def to_float(x):\n",
      "    try:\n",
      "        return float(x)\n",
      "    except:\n",
      "        return -1.0"
     ],
     "language": "python",
     "metadata": {},
     "outputs": [],
     "prompt_number": 30
    },
    {
     "cell_type": "code",
     "collapsed": false,
     "input": [
      "#recall(sensitivity) and specificity at given threshold\n",
      "def recall_specificity(prob, is_true, threshold):\n",
      "    true_positives = sum( float(prob[i] >= threshold) and is_true[i] for i in range(len(prob)))\n",
      "    true_negatives = sum( float(prob[i] < threshold) and not is_true[i] for i in range(len(prob)))\n",
      "    total_true = sum(float(x) for x in is_true)\n",
      "    total_false = len(prob) - total_true\n",
      "    return (true_positives/total_true),  (true_negatives/total_false)\n",
      "\n",
      "\n",
      "def roc(prob, is_true):\n",
      "    thresholds = sorted(list(set(prob)))\n",
      "    #if len(thresholds) > 20:\n",
      "    #    thresholds =  [thresholds[ (i * (len(thresholds) - 1))/20] for i in range(11)]\n",
      "    \n",
      "    result = []\n",
      "    result.append( (0.0,0.0,\"\"))\n",
      "    for t in thresholds:\n",
      "        if t is None or t == \"None\": continue\n",
      "        rec, spec = recall_specificity(prob, is_true, t)\n",
      "        result.append((1-spec, rec, t))\n",
      "    return result\n",
      "\n",
      "\n",
      "\n",
      "\n",
      "def plot_curve(f, db, classifier, label = None, annotate = False,s = \"s-\"):\n",
      "    rc = f( map(to_float, np.array(db.data[classifier])), np.array(db.data[\"SCORE\"]) == 1)\n",
      "    rc.sort()\n",
      "    plt.plot([x[0] for x in rc], [x[1] for x in rc], s, label = label)\n",
      "    if (annotate):\n",
      "        for x,y,z in rc:\n",
      "            plt.annotate( \"%.2f\" % z if type(z)==float else str(z), xy=(x,y))\n"
     ],
     "language": "python",
     "metadata": {},
     "outputs": [],
     "prompt_number": 31
    },
    {
     "cell_type": "code",
     "collapsed": false,
     "input": [
      "def norv_train():\n",
      "    #Norvegai (Table 5 - TRAINING SET)\n",
      "    p = 108 + 26 -5\n",
      "    n = 1004\n",
      "    tp = np.array([0,3,7,22,30,67])[::-1].cumsum()[::-1]\n",
      "    tn = n - np.array([0]+[27,380,528,62,7,0][:-1]).cumsum()\n",
      "    tp = np.append(tp, 0)\n",
      "    tn = np.append(tn, 0)\n",
      "    plt.plot(tn * 1.0/n, tp * 1.0/p, \"s-\", label=\"Olstapen, train\")\n",
      "    \n",
      "def norv_test():\n",
      "    p = 88 + 45 - 5 \n",
      "    n = 866\n",
      "    tp = np.array([0] + [1,6,13,26,33,49])[::-1].cumsum()[::-1]\n",
      "    tn = n - np.array([0] + [0]+[22,406,391,41,6,0][:-1]).cumsum()\n",
      "    tp = np.append(tp, 0)\n",
      "    tn = np.append(tn, 0)\n",
      "    plt.plot(tn * 1.0/n, tp * 1.0/p, \"x-\", label=\"Olstapen, test\")\n",
      "     \n",
      "def norv_test2():\n",
      "    p = 96\n",
      "    n = 809\n",
      "    tp = np.array([0] + [0,0,14,39,25,18])[::-1].cumsum()[::-1]\n",
      "    tn = n - np.array([0] + [0]+[4,0,647,144,13,1][:-1]).cumsum()\n",
      "    tp = np.append(tp, 0)\n",
      "    tn = np.append(tn, 0)\n",
      "    plt.plot(tn * 1.0/n, tp * 1.0/p, \"x-\", label=\"Larvik, test\")\n",
      "     "
     ],
     "language": "python",
     "metadata": {},
     "outputs": [],
     "prompt_number": 32
    },
    {
     "cell_type": "code",
     "collapsed": false,
     "input": [
      "#comparison with humans.\n",
      "\n",
      "db.data['HU'] = np.array(map(eval, db.data[\"SCORE_V\"]))\n",
      "db.data['HU'] = 1 * (db.data['HU'] == 1)\n",
      "db.data['HU'] += 1 * (np.array(db.data['COMMENT']) == 'definite')\n",
      "plt.figure(figsize = (8,8))\n",
      "\n",
      "plot_curve(roc, db, \"KNN_PROB\", \"knn\", annotate = False)\n",
      "plot_curve(roc, db, \"HU\", \"human\", annotate=False,s=\".-\")\n",
      "\n",
      "#norv_train()\n",
      "#norv_test()\n",
      "#norv_test2()\n",
      "\n",
      "\n",
      "plt.grid(True)\n",
      "plt.legend(loc=\"best\")\n",
      "plt.xlabel(\"False positive rate\")\n",
      "plt.ylabel(\"True positive rate\")\n",
      "plt.title(u\"ROC curve for mounds\")\n",
      "#%matplotlib gtk\n",
      "\n",
      "plt.axhline()\n",
      "plt.axvline()\n",
      "\n",
      "\n",
      "plt.show()"
     ],
     "language": "python",
     "metadata": {},
     "outputs": [],
     "prompt_number": 11
    },
    {
     "cell_type": "code",
     "collapsed": false,
     "input": [
      "plt.figure(figsize = (8,8))\n",
      "plot_curve(roc, db, \"KNN_PROB\", \"knn\", annotate = True)\n",
      "plot_curve(roc, db, \"KNN_PROB+tst\", \"knn+tst\", annotate = True)\n",
      "plt.show()"
     ],
     "language": "python",
     "metadata": {},
     "outputs": [],
     "prompt_number": 33
    },
    {
     "cell_type": "code",
     "collapsed": false,
     "input": [
      "plt.figure(figsize = (8,8))\n",
      "plot_curve(roc, db, \"KNN_PROB\", \"knn\", annotate = False)\n",
      "plot_curve(roc, db, \"KNN_PROB+tst\", \"knn+tst\", annotate = False)\n",
      "\n",
      "plot_curve(roc, db, \"LR_PROB\", \"proximity\", annotate=False,s=\".-\")\n",
      "plot_curve(roc, db, \"SVM_G\", \"SVM_G\", annotate=False, s=\"s\")\n",
      "#plot_curve(roc, db, \"SVM_G2\", \"SVM_G2\", annotate=False, s=\"s\")\n",
      "plot_curve(roc, db, \"SVM_GV2\", \"SVM_GV2\", annotate=False, s=\"s\")\n",
      "plot_curve(roc, db, \"SVM_GV2.1\", \"SVM_GV2.1\", annotate=False, s=\"s\")\n",
      "plot_curve(roc, db, \"SVM_GV2.1+tst\", \"SVM_GV2.1+tst\", annotate=False, s=\"s\")\n",
      "\n",
      "\n",
      "\n",
      "#norv_train()\n",
      "norv_test()\n",
      "norv_test2()\n",
      "\n",
      "\n",
      "plt.grid(True)\n",
      "plt.legend(loc=\"best\")\n",
      "plt.xlabel(\"False positive rate\")\n",
      "plt.ylabel(\"True positive rate\")\n",
      "plt.title(u\"ROC curve for mounds\")\n",
      "#%matplotlib gtk\n",
      "\n",
      "plt.axhline()\n",
      "plt.axvline()\n",
      "\n",
      "\n",
      "plt.show()"
     ],
     "language": "python",
     "metadata": {},
     "outputs": [],
     "prompt_number": 35
    },
    {
     "cell_type": "code",
     "collapsed": false,
     "input": [
      "from collections import Counter\n",
      "cts = (Counter(np.array(db.data[\"FNAME\"])[(np.array(db.data[\"SVM_GV2\"]) == 'True') & (np.array(db.data[\"SCORE\"]) != 1)]))\n",
      "#cts = (Counter(np.array(db.data[\"FNAME\"])[(np.array(db.data[\"SVM_G2\"]) == '1.0') & (np.array(db.data[\"SCORE\"]) != 1)]))\n",
      "for x,y in cts.iteritems():\n",
      "    print (x,y)"
     ],
     "language": "python",
     "metadata": {},
     "outputs": [],
     "prompt_number": 9
    }
   ],
   "metadata": {}
  }
 ]
}