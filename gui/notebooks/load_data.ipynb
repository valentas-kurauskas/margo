{
 "metadata": {
  "name": ""
 },
 "nbformat": 3,
 "nbformat_minor": 0,
 "worksheets": [
  {
   "cells": [
    {
     "cell_type": "code",
     "collapsed": false,
     "input": [
      "import sys,os\n",
      "sys.path.append(os.path.abspath ('..'))\n",
      "from core import xyz\n",
      "xyz.VERBOSITY = 0\n",
      "import numpy as np\n",
      "from core.classifier import CustomizedClassifier, data, exceeds"
     ],
     "language": "python",
     "metadata": {},
     "outputs": [],
     "prompt_number": 8
    },
    {
     "cell_type": "code",
     "collapsed": false,
     "input": [
      "d = \"../../../arch/classified/grazvydas2/\"\n",
      "VALIDATION = ['71_35_selectionsDB.xyz', '71_47_selectionsDB.xyz', '74_48_selectionsDB.xyz', \n",
      "              '83_46_selectionsDB.xyz', '84_50_selectionsDB.xyz', '87_47_selectionsDB.xyz', '89_49_selectionsDB.xyz']\n",
      "\n",
      "TEST_TRAIN = [d + z for z in os.listdir(d) if not z in VALIDATION]\n",
      "print len(VALIDATION), len(TEST_TRAIN)"
     ],
     "language": "python",
     "metadata": {},
     "outputs": [
      {
       "output_type": "stream",
       "stream": "stdout",
       "text": [
        "7 14\n"
       ]
      }
     ],
     "prompt_number": 9
    },
    {
     "cell_type": "code",
     "collapsed": false,
     "input": [
      "#initialize a dummy classifier\n",
      "c = CustomizedClassifier(x_getter=data(\"RAW_HEIGHTS\"), y_getter=exceeds(\"SCORE\", 0.5), r_col=\"dummy\", clf=None)"
     ],
     "language": "python",
     "metadata": {},
     "outputs": [],
     "prompt_number": 10
    },
    {
     "cell_type": "code",
     "collapsed": false,
     "input": [
      "#retrieves data using x_getter and y_getter as X and Y\n",
      "db = c.load_data([d + x for x in TEST_TRAIN]);\n",
      "validation_db = c.load_data([d + x for x in VALIDATION]);"
     ],
     "language": "python",
     "metadata": {},
     "outputs": [
      {
       "output_type": "stream",
       "stream": "stdout",
       "text": [
        "Loading file 1 of 14 75_44_selectionsDB.xyz\n",
        "\n",
        "Labels present: True\n"
       ]
      },
      {
       "output_type": "stream",
       "stream": "stdout",
       "text": [
        "\n",
        "Loading file 2 of 14 86_41_selectionsDB.xyz\n",
        "\n",
        "Labels present: True\n"
       ]
      },
      {
       "output_type": "stream",
       "stream": "stdout",
       "text": [
        "\n",
        "Loading file 3 of 14 81_36_selectionsDB.xyz\n",
        "\n",
        "Labels present: True\n"
       ]
      },
      {
       "output_type": "stream",
       "stream": "stdout",
       "text": [
        "\n",
        "Loading file 4 of 14 79_46_selectionsDB.xyz\n",
        "\n",
        "Labels present: True\n"
       ]
      },
      {
       "output_type": "stream",
       "stream": "stdout",
       "text": [
        "\n",
        "Loading file 5 of 14 84_46_selectionsDB.xyz\n",
        "\n",
        "Labels present: True\n"
       ]
      },
      {
       "output_type": "stream",
       "stream": "stdout",
       "text": [
        "\n",
        "Loading file 6 of 14 85_48_selectionsDB.xyz\n",
        "\n",
        "Labels present: True\n"
       ]
      },
      {
       "output_type": "stream",
       "stream": "stdout",
       "text": [
        "\n",
        "Loading file 7 of 14 74_44_selectionsDB.xyz\n",
        "\n",
        "Labels present: True\n"
       ]
      },
      {
       "output_type": "stream",
       "stream": "stdout",
       "text": [
        "\n",
        "Loading file 8 of 14 85_42_selectionsDB.xyz\n",
        "\n",
        "Labels present: True\n"
       ]
      },
      {
       "output_type": "stream",
       "stream": "stdout",
       "text": [
        "\n",
        "Loading file 9 of 14 71_34_selectionsDB.xyz\n",
        "\n",
        "Labels present: True\n"
       ]
      },
      {
       "output_type": "stream",
       "stream": "stdout",
       "text": [
        "\n",
        "Loading file 10 of 14 81_38_selectionsDB.xyz\n",
        "\n",
        "Labels present: True\n"
       ]
      },
      {
       "output_type": "stream",
       "stream": "stdout",
       "text": [
        "\n",
        "Loading file 11 of 14 80_39_selectionsDB.xyz\n",
        "\n",
        "Labels present: True\n"
       ]
      },
      {
       "output_type": "stream",
       "stream": "stdout",
       "text": [
        "\n",
        "Loading file 12 of 14 80_40_selectionsDB.xyz\n",
        "\n",
        "Labels present: True\n"
       ]
      },
      {
       "output_type": "stream",
       "stream": "stdout",
       "text": [
        "\n",
        "Loading file 13 of 14 87_46_selectionsDB.xyz\n",
        "\n",
        "Labels present: True\n"
       ]
      },
      {
       "output_type": "stream",
       "stream": "stdout",
       "text": [
        "\n",
        "Loading file 14 of 14 86_46_selectionsDB.xyz\n",
        "\n",
        "Labels present: True\n"
       ]
      },
      {
       "output_type": "stream",
       "stream": "stdout",
       "text": [
        "\n",
        "Loading file 1 of 7 71_35_selectionsDB.xyz\n",
        "\n",
        "Labels present: True\n"
       ]
      },
      {
       "output_type": "stream",
       "stream": "stdout",
       "text": [
        "\n",
        "Loading file 2 of 7 71_47_selectionsDB.xyz\n",
        "\n",
        "Labels present: True\n"
       ]
      },
      {
       "output_type": "stream",
       "stream": "stdout",
       "text": [
        "\n",
        "Loading file 3 of 7 74_48_selectionsDB.xyz\n",
        "\n",
        "Labels present: True\n"
       ]
      },
      {
       "output_type": "stream",
       "stream": "stdout",
       "text": [
        "\n",
        "Loading file 4 of 7 83_46_selectionsDB.xyz\n",
        "\n",
        "Labels present: True\n"
       ]
      },
      {
       "output_type": "stream",
       "stream": "stdout",
       "text": [
        "\n",
        "Loading file 5 of 7 84_50_selectionsDB.xyz\n",
        "\n",
        "Labels present: True\n"
       ]
      },
      {
       "output_type": "stream",
       "stream": "stdout",
       "text": [
        "\n",
        "Loading file 6 of 7 87_47_selectionsDB.xyz\n",
        "\n",
        "Labels present: True\n"
       ]
      },
      {
       "output_type": "stream",
       "stream": "stdout",
       "text": [
        "\n",
        "Loading file 7 of 7 89_49_selectionsDB.xyz\n",
        "\n",
        "Labels present: True\n"
       ]
      },
      {
       "output_type": "stream",
       "stream": "stdout",
       "text": [
        "\n"
       ]
      }
     ],
     "prompt_number": 11
    },
    {
     "cell_type": "code",
     "collapsed": false,
     "input": [
      "#can be used for training, saved, etc\n",
      "X = np.array(db.data[\"X\"])\n",
      "Y = np.array(db.data[\"Y\"])\n",
      "F = np.array(db.data[\"FILE_ID\"])\n",
      "X_val = np.array(validation_db.data[\"X\"])\n",
      "Y_val = np.array(validation_db.data[\"Y\"])\n",
      "print \"TEST_TRAIN:\",sum(Y), sum(Y) * 1.0/len(Y), len(Y)\n",
      "print \"VALIDATION:\",sum(Y_val), sum(Y_val) * 1.0/len(Y_val), len(Y_val)"
     ],
     "language": "python",
     "metadata": {},
     "outputs": [
      {
       "output_type": "stream",
       "stream": "stdout",
       "text": [
        "TEST_TRAIN: "
       ]
      },
      {
       "output_type": "stream",
       "stream": "stdout",
       "text": [
        "633 0.0372155917455 17009\n",
        "VALIDATION: "
       ]
      },
      {
       "output_type": "stream",
       "stream": "stdout",
       "text": [
        "483 0.0647539884703 7459\n"
       ]
      }
     ],
     "prompt_number": 12
    },
    {
     "cell_type": "code",
     "collapsed": false,
     "input": [
      "X"
     ],
     "language": "python",
     "metadata": {},
     "outputs": [
      {
       "metadata": {},
       "output_type": "pyout",
       "prompt_number": 13,
       "text": [
        "array([[ 0.191452 ,  0.189056 ,  0.20192  , ...,  0.354111 ,  0.277664 ,\n",
        "         0.210068 ],\n",
        "       [ 0.420425 ,  0.511719 ,  0.523209 , ..., -0.196167 , -0.07901  ,\n",
        "         0.136719 ],\n",
        "       [ 0.40657  ,  0.391388 ,  0.49588  , ...,  0.0133514,  0.0067749,\n",
        "         0.0055542],\n",
        "       ..., \n",
        "       [ 0.634323 ,  0.578568 ,  0.417786 , ...,  0.455338 ,  0.754456 ,\n",
        "         0.955795 ],\n",
        "       [ 0.358978 ,  0.3461   ,  0.440979 , ...,  0.340118 ,  0.324692 ,\n",
        "         0.415161 ],\n",
        "       [ 0.262421 ,  0.190186 ,  0.221298 , ...,  0.313095 ,  0.363037 ,\n",
        "         0.321457 ]])"
       ]
      }
     ],
     "prompt_number": 13
    },
    {
     "cell_type": "code",
     "collapsed": false,
     "input": [
      "Y"
     ],
     "language": "python",
     "metadata": {},
     "outputs": [
      {
       "metadata": {},
       "output_type": "pyout",
       "prompt_number": 14,
       "text": [
        "array([False, False, False, ..., False, False, False], dtype=bool)"
       ]
      }
     ],
     "prompt_number": 14
    }
   ],
   "metadata": {}
  }
 ]
}